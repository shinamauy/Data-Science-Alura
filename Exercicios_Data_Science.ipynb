{
  "nbformat": 4,
  "nbformat_minor": 0,
  "metadata": {
    "colab": {
      "provenance": [],
      "authorship_tag": "ABX9TyPvsx+cE6zv2xjwWk8RnZ+w",
      "include_colab_link": true
    },
    "kernelspec": {
      "name": "python3",
      "display_name": "Python 3"
    },
    "language_info": {
      "name": "python"
    }
  },
  "cells": [
    {
      "cell_type": "markdown",
      "metadata": {
        "id": "view-in-github",
        "colab_type": "text"
      },
      "source": [
        "<a href=\"https://colab.research.google.com/github/shinamauy/Data-Science-Alura/blob/main/Exercicios_Data_Science.ipynb\" target=\"_parent\"><img src=\"https://colab.research.google.com/assets/colab-badge.svg\" alt=\"Open In Colab\"/></a>"
      ]
    },
    {
      "cell_type": "markdown",
      "source": [
        "<<Começando com Python>>\n",
        "\n",
        "Vamos praticar o uso da função print com algumas atividades. Para isso, solucione os problemas propostos em código:\n",
        "\n",
        "1 - Imprima a frase Escola de Dados da Alura!."
      ],
      "metadata": {
        "id": "807yST9yEMsi"
      }
    },
    {
      "cell_type": "code",
      "execution_count": 3,
      "metadata": {
        "colab": {
          "base_uri": "https://localhost:8080/"
        },
        "id": "qVckM1GdC9Ux",
        "outputId": "0cbd2faa-4ce8-4180-8f4f-8c284a27d12b"
      },
      "outputs": [
        {
          "output_type": "stream",
          "name": "stdout",
          "text": [
            "Escola de Dados da Alura!\n"
          ]
        }
      ],
      "source": [
        "print ('Escola de Dados da Alura!')"
      ]
    },
    {
      "cell_type": "markdown",
      "source": [
        "2 - Imprima seu nome e seu sobrenome seguindo a estrutura abaixo:\n",
        "\n",
        "Nome: [seu nome]\n",
        "\n",
        "Sobrenome: [seu sobrenome]"
      ],
      "metadata": {
        "id": "i03RKih9FyCI"
      }
    },
    {
      "cell_type": "code",
      "source": [
        "print('Nome: [Rafael]')\n",
        "print('Sobrenome: [Fernandes]')"
      ],
      "metadata": {
        "colab": {
          "base_uri": "https://localhost:8080/"
        },
        "id": "X6xwfu1iGPtJ",
        "outputId": "97c997d0-ef2a-4f4a-b583-070e959431d5"
      },
      "execution_count": 6,
      "outputs": [
        {
          "output_type": "stream",
          "name": "stdout",
          "text": [
            "Nome: [Rafael]\n",
            "Sobrenome: [Fernandes]\n"
          ]
        }
      ]
    },
    {
      "cell_type": "markdown",
      "source": [
        "3 - Imprima o seu primeiro nome letra a letra. Por exemplo, meu nome é Rafael, então eu obtenho a seguinte saída:\n",
        "\n",
        "R\n",
        "\n",
        "A\n",
        "\n",
        "F\n",
        "\n",
        "A\n",
        "\n",
        "E\n",
        "\n",
        "L"
      ],
      "metadata": {
        "id": "0fH3rHgbGQS5"
      }
    },
    {
      "cell_type": "code",
      "source": [
        "print ('R')\n",
        "print ('A')\n",
        "print ('F')\n",
        "print ('A')\n",
        "print ('E')\n",
        "print ('L')"
      ],
      "metadata": {
        "colab": {
          "base_uri": "https://localhost:8080/"
        },
        "id": "RvatqUY0NyJm",
        "outputId": "643f819f-11ee-4653-df69-b6736617cfb8"
      },
      "execution_count": 7,
      "outputs": [
        {
          "output_type": "stream",
          "name": "stdout",
          "text": [
            "R\n",
            "A\n",
            "F\n",
            "A\n",
            "E\n",
            "L\n"
          ]
        }
      ]
    },
    {
      "cell_type": "markdown",
      "source": [
        "4 - Imprima o dia do seu nascimento em formato dia mês ano. Lembrando que os valores de dia e ano não podem estar entre aspas. Supondo uma data de aniversário dia 28 de fevereiro de 2003, o formato deve estar como no exemplo abaixo:\n",
        "28 fevereiro 2003"
      ],
      "metadata": {
        "id": "5Cqv73p_NyjM"
      }
    },
    {
      "cell_type": "code",
      "source": [
        "print(28, 'fevereiro', 2003)"
      ],
      "metadata": {
        "colab": {
          "base_uri": "https://localhost:8080/"
        },
        "id": "PABwgVM5N1z0",
        "outputId": "bedb029e-90cf-404a-8039-9bfed4942bd4"
      },
      "execution_count": 8,
      "outputs": [
        {
          "output_type": "stream",
          "name": "stdout",
          "text": [
            "28 fevereiro 2003\n"
          ]
        }
      ]
    },
    {
      "cell_type": "markdown",
      "source": [
        "5 - Imprima, em um único print, o atual ano que você está fazendo esse curso. O valor do ano deve ser um dado numérico e a saída do print deve ser a seguinte:\n",
        "Ano atual: [ano]\n"
      ],
      "metadata": {
        "id": "h0hQWsUWN2rt"
      }
    },
    {
      "cell_type": "code",
      "source": [
        "print('Ano atual:',2025)"
      ],
      "metadata": {
        "colab": {
          "base_uri": "https://localhost:8080/"
        },
        "id": "3v37rvpGN8Os",
        "outputId": "046d6420-31ff-4a1a-f514-a23c0dc0a3ec"
      },
      "execution_count": 9,
      "outputs": [
        {
          "output_type": "stream",
          "name": "stdout",
          "text": [
            "Ano atual: 2025\n"
          ]
        }
      ]
    },
    {
      "cell_type": "markdown",
      "source": [
        "##Exercicios Estrutura de Dados##\n",
        "\n",
        "Vamos praticar o uso de estruturas de dados, como as listas e os dicionários, a partir de algumas atividades. Agora que estamos avançando nos conteúdos, podemos tornar os desafios mais interessantes. Para isso, vamos trabalhar com projetos de código!"
      ],
      "metadata": {
        "id": "EJaKsJHhPUqG"
      }
    }
  ]
}